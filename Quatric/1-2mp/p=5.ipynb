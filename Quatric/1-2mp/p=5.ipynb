{
 "cells": [
  {
   "cell_type": "code",
   "execution_count": 18,
   "metadata": {},
   "outputs": [],
   "source": [
    "p = 5"
   ]
  },
  {
   "cell_type": "code",
   "execution_count": null,
   "metadata": {},
   "outputs": [],
   "source": [
    "sage: m = 7\n",
    "sage: K = QuadraticField(1-2*m^p, 'x')\n",
    "sage: y = K.class_number()\n",
    "sage: L = QuadraticField(1-4*(1-2*m^p)^p, 'x')\n",
    "sage: w = L.class_number()\n",
    "sage: z = y/p \n",
    "sage: v = w/p \n",
    "print(y)\n",
    "print(z)\n",
    "print(w)\n",
    "print(v)"
   ]
  },
  {
   "cell_type": "code",
   "execution_count": 20,
   "metadata": {},
   "outputs": [
    {
     "name": "stdout",
     "output_type": "stream",
     "text": [
      "112\n",
      "112/5\n"
     ]
    }
   ],
   "source": [
    "sage: m = 8\n",
    "sage: K = QuadraticField(1-2*m^p, 'x')\n",
    "sage: y = K.class_number()\n",
    "sage: z = y/p  \n",
    "print(y)\n",
    "print(z)"
   ]
  },
  {
   "cell_type": "code",
   "execution_count": 21,
   "metadata": {},
   "outputs": [
    {
     "name": "stdout",
     "output_type": "stream",
     "text": [
      "280\n",
      "56\n"
     ]
    }
   ],
   "source": [
    "sage: m = 9\n",
    "sage: K = QuadraticField(1-2*m^p, 'x')\n",
    "sage: y = K.class_number()\n",
    "sage: z = y/p  \n",
    "print(y)\n",
    "print(z)"
   ]
  },
  {
   "cell_type": "code",
   "execution_count": 22,
   "metadata": {},
   "outputs": [
    {
     "name": "stdout",
     "output_type": "stream",
     "text": [
      "112\n",
      "112/5\n"
     ]
    }
   ],
   "source": [
    "sage: m = 8\n",
    "sage: K = QuadraticField(1-2*m^p, 'x')\n",
    "sage: y = K.class_number()\n",
    "sage: z = y/p  \n",
    "print(y)\n",
    "print(z)"
   ]
  },
  {
   "cell_type": "code",
   "execution_count": 23,
   "metadata": {},
   "outputs": [
    {
     "name": "stdout",
     "output_type": "stream",
     "text": [
      "185\n",
      "37\n"
     ]
    }
   ],
   "source": [
    "sage: m = 10\n",
    "sage: K = QuadraticField(1-2*m^p, 'x')\n",
    "sage: y = K.class_number()\n",
    "sage: z = y/p  \n",
    "print(y)\n",
    "print(z)"
   ]
  },
  {
   "cell_type": "code",
   "execution_count": 24,
   "metadata": {},
   "outputs": [
    {
     "name": "stdout",
     "output_type": "stream",
     "text": [
      "320\n",
      "64\n"
     ]
    }
   ],
   "source": [
    "sage: m = 11\n",
    "sage: K = QuadraticField(1-2*m^p, 'x')\n",
    "sage: y = K.class_number()\n",
    "sage: z = y/p  \n",
    "print(y)\n",
    "print(z)"
   ]
  },
  {
   "cell_type": "code",
   "execution_count": 25,
   "metadata": {},
   "outputs": [
    {
     "name": "stdout",
     "output_type": "stream",
     "text": [
      "609\n",
      "609/5\n"
     ]
    }
   ],
   "source": [
    "sage: m = 12\n",
    "sage: K = QuadraticField(1-2*m^p, 'x')\n",
    "sage: y = K.class_number()\n",
    "sage: z = y/p  \n",
    "print(y)\n",
    "print(z)"
   ]
  },
  {
   "cell_type": "code",
   "execution_count": 26,
   "metadata": {},
   "outputs": [
    {
     "name": "stdout",
     "output_type": "stream",
     "text": [
      "440\n",
      "88\n"
     ]
    }
   ],
   "source": [
    "sage: m = 13\n",
    "sage: K = QuadraticField(1-2*m^p, 'x')\n",
    "sage: y = K.class_number()\n",
    "sage: z = y/p  \n",
    "print(y)\n",
    "print(z)"
   ]
  },
  {
   "cell_type": "code",
   "execution_count": 27,
   "metadata": {},
   "outputs": [
    {
     "name": "stdout",
     "output_type": "stream",
     "text": [
      "1050\n",
      "210\n"
     ]
    }
   ],
   "source": [
    "sage: m = 15\n",
    "sage: K = QuadraticField(1-2*m^p, 'x')\n",
    "sage: y = K.class_number()\n",
    "sage: z = y/p  \n",
    "print(y)\n",
    "print(z)"
   ]
  },
  {
   "cell_type": "code",
   "execution_count": 28,
   "metadata": {},
   "outputs": [
    {
     "name": "stdout",
     "output_type": "stream",
     "text": [
      "800\n",
      "160\n"
     ]
    }
   ],
   "source": [
    "sage: m = 17\n",
    "sage: K = QuadraticField(1-2*m^p, 'x')\n",
    "sage: y = K.class_number()\n",
    "sage: z = y/p  \n",
    "print(y)\n",
    "print(z)"
   ]
  },
  {
   "cell_type": "code",
   "execution_count": 29,
   "metadata": {},
   "outputs": [
    {
     "name": "stdout",
     "output_type": "stream",
     "text": [
      "1080\n",
      "216\n"
     ]
    }
   ],
   "source": [
    "sage: m = 19\n",
    "sage: K = QuadraticField(1-2*m^p, 'x')\n",
    "sage: y = K.class_number()\n",
    "sage: z = y/p  \n",
    "print(y)\n",
    "print(z)"
   ]
  },
  {
   "cell_type": "code",
   "execution_count": null,
   "metadata": {},
   "outputs": [],
   "source": []
  }
 ],
 "metadata": {
  "kernelspec": {
   "display_name": "SageMath 9.2",
   "language": "sage",
   "name": "sagemath"
  },
  "language_info": {
   "codemirror_mode": {
    "name": "ipython",
    "version": 3
   },
   "file_extension": ".py",
   "mimetype": "text/x-python",
   "name": "python",
   "nbconvert_exporter": "python",
   "pygments_lexer": "ipython3",
   "version": "3.7.7"
  }
 },
 "nbformat": 4,
 "nbformat_minor": 4
}
