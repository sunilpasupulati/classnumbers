{
 "cells": [
  {
   "cell_type": "code",
   "execution_count": 6,
   "metadata": {},
   "outputs": [],
   "source": [
    "p = 7"
   ]
  },
  {
   "cell_type": "code",
   "execution_count": 7,
   "metadata": {},
   "outputs": [
    {
     "name": "stdout",
     "output_type": "stream",
     "text": [
      "28\n"
     ]
    }
   ],
   "source": [
    "sage: m = 5\n",
    "sage: K = QuadraticField(1-2*m^p, 'x')\n",
    "sage: y = K.class_number()\n",
    "print(y)"
   ]
  },
  {
   "cell_type": "code",
   "execution_count": 8,
   "metadata": {},
   "outputs": [
    {
     "name": "stdout",
     "output_type": "stream",
     "text": [
      "616\n",
      "88\n"
     ]
    }
   ],
   "source": [
    "sage: m = 7\n",
    "sage: K = QuadraticField(1-2*m^p, 'x')\n",
    "sage: y = K.class_number()\n",
    "sage: z = y/p  \n",
    "print(y)\n",
    "print(z)"
   ]
  },
  {
   "cell_type": "code",
   "execution_count": 9,
   "metadata": {},
   "outputs": [
    {
     "name": "stdout",
     "output_type": "stream",
     "text": [
      "880\n",
      "880/7\n"
     ]
    }
   ],
   "source": [
    "sage: m = 8\n",
    "sage: K = QuadraticField(1-2*m^p, 'x')\n",
    "sage: y = K.class_number()\n",
    "sage: z = y/p  \n",
    "print(y)\n",
    "print(z)"
   ]
  },
  {
   "cell_type": "code",
   "execution_count": 10,
   "metadata": {},
   "outputs": [
    {
     "name": "stdout",
     "output_type": "stream",
     "text": [
      "2912\n",
      "416\n"
     ]
    }
   ],
   "source": [
    "sage: m = 9\n",
    "sage: K = QuadraticField(1-2*m^p, 'x')\n",
    "sage: y = K.class_number()\n",
    "sage: z = y/p  \n",
    "print(y)\n",
    "print(z)"
   ]
  },
  {
   "cell_type": "code",
   "execution_count": 13,
   "metadata": {},
   "outputs": [
    {
     "name": "stdout",
     "output_type": "stream",
     "text": [
      "5040\n",
      "720\n"
     ]
    }
   ],
   "source": [
    "sage: m = 11\n",
    "sage: K = QuadraticField(1-2*m^p, 'x')\n",
    "sage: y = K.class_number()\n",
    "sage: z = y/p  \n",
    "print(y)\n",
    "print(z)"
   ]
  },
  {
   "cell_type": "code",
   "execution_count": 15,
   "metadata": {},
   "outputs": [
    {
     "name": "stdout",
     "output_type": "stream",
     "text": [
      "5292\n",
      "756\n"
     ]
    }
   ],
   "source": [
    "sage: m = 13\n",
    "sage: K = QuadraticField(1-2*m^p, 'x')\n",
    "sage: y = K.class_number()\n",
    "sage: z = y/p  \n",
    "print(y)\n",
    "print(z)"
   ]
  },
  {
   "cell_type": "code",
   "execution_count": 16,
   "metadata": {},
   "outputs": [
    {
     "name": "stdout",
     "output_type": "stream",
     "text": [
      "15218\n",
      "2174\n"
     ]
    }
   ],
   "source": [
    "sage: m = 15\n",
    "sage: K = QuadraticField(1-2*m^p, 'x')\n",
    "sage: y = K.class_number()\n",
    "sage: z = y/p  \n",
    "print(y)\n",
    "print(z)"
   ]
  },
  {
   "cell_type": "code",
   "execution_count": 17,
   "metadata": {},
   "outputs": [
    {
     "name": "stdout",
     "output_type": "stream",
     "text": [
      "20496\n",
      "2928\n"
     ]
    }
   ],
   "source": [
    "sage: m = 17\n",
    "sage: K = QuadraticField(1-2*m^p, 'x')\n",
    "sage: y = K.class_number()\n",
    "sage: z = y/p  \n",
    "print(y)\n",
    "print(z)"
   ]
  },
  {
   "cell_type": "code",
   "execution_count": 18,
   "metadata": {},
   "outputs": [
    {
     "name": "stdout",
     "output_type": "stream",
     "text": [
      "15232\n",
      "2176\n"
     ]
    }
   ],
   "source": [
    "sage: m = 19\n",
    "sage: K = QuadraticField(1-2*m^p, 'x')\n",
    "sage: y = K.class_number()\n",
    "sage: z = y/p  \n",
    "print(y)\n",
    "print(z)"
   ]
  },
  {
   "cell_type": "code",
   "execution_count": null,
   "metadata": {},
   "outputs": [],
   "source": []
  }
 ],
 "metadata": {
  "kernelspec": {
   "display_name": "SageMath 9.2",
   "language": "sage",
   "name": "sagemath"
  },
  "language_info": {
   "codemirror_mode": {
    "name": "ipython",
    "version": 3
   },
   "file_extension": ".py",
   "mimetype": "text/x-python",
   "name": "python",
   "nbconvert_exporter": "python",
   "pygments_lexer": "ipython3",
   "version": "3.7.7"
  }
 },
 "nbformat": 4,
 "nbformat_minor": 4
}
