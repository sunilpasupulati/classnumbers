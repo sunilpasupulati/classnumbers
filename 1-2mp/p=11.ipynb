{
 "cells": [
  {
   "cell_type": "code",
   "execution_count": 1,
   "metadata": {},
   "outputs": [],
   "source": [
    "p = 11"
   ]
  },
  {
   "cell_type": "code",
   "execution_count": 2,
   "metadata": {},
   "outputs": [
    {
     "name": "stdout",
     "output_type": "stream",
     "text": [
      "7568\n",
      "688\n"
     ]
    }
   ],
   "source": [
    "sage: m = 5\n",
    "sage: K = QuadraticField(1-2*m^p, 'x')\n",
    "sage: y = K.class_number()\n",
    "sage: z = y/p  \n",
    "print(y)\n",
    "print(z)"
   ]
  },
  {
   "cell_type": "code",
   "execution_count": 6,
   "metadata": {},
   "outputs": [
    {
     "name": "stdout",
     "output_type": "stream",
     "text": [
      "3924\n",
      "436\n"
     ]
    }
   ],
   "source": [
    "sage: m = 7\n",
    "sage: K = QuadraticField(1-2*m^p, 'x')\n",
    "sage: y = K.class_number()\n",
    "sage: z = y/p  \n",
    "print(y)\n",
    "print(z)"
   ]
  },
  {
   "cell_type": "code",
   "execution_count": 7,
   "metadata": {},
   "outputs": [
    {
     "name": "stdout",
     "output_type": "stream",
     "text": [
      "9984\n",
      "3328/3\n"
     ]
    }
   ],
   "source": [
    "sage: m = 8\n",
    "sage: K = QuadraticField(1-2*m^p, 'x')\n",
    "sage: y = K.class_number()\n",
    "sage: z = y/p  \n",
    "print(y)\n",
    "print(z)"
   ]
  },
  {
   "cell_type": "code",
   "execution_count": 8,
   "metadata": {},
   "outputs": [
    {
     "name": "stdout",
     "output_type": "stream",
     "text": [
      "17064\n",
      "1896\n"
     ]
    }
   ],
   "source": [
    "sage: m = 9\n",
    "sage: K = QuadraticField(1-2*m^p, 'x')\n",
    "sage: y = K.class_number()\n",
    "sage: z = y/p  \n",
    "print(y)\n",
    "print(z)"
   ]
  },
  {
   "cell_type": "code",
   "execution_count": 9,
   "metadata": {},
   "outputs": [
    {
     "name": "stdout",
     "output_type": "stream",
     "text": [
      "47448\n",
      "5272\n"
     ]
    }
   ],
   "source": [
    "sage: m = 11\n",
    "sage: K = QuadraticField(1-2*m^p, 'x')\n",
    "sage: y = K.class_number()\n",
    "sage: z = y/p  \n",
    "print(y)\n",
    "print(z)"
   ]
  },
  {
   "cell_type": "code",
   "execution_count": 10,
   "metadata": {},
   "outputs": [
    {
     "name": "stdout",
     "output_type": "stream",
     "text": [
      "73152\n",
      "8128\n"
     ]
    }
   ],
   "source": [
    "sage: m = 13\n",
    "sage: K = QuadraticField(1-2*m^p, 'x')\n",
    "sage: y = K.class_number()\n",
    "sage: z = y/p  \n",
    "print(y)\n",
    "print(z)"
   ]
  },
  {
   "cell_type": "code",
   "execution_count": 11,
   "metadata": {},
   "outputs": [
    {
     "name": "stdout",
     "output_type": "stream",
     "text": [
      "239436\n",
      "26604\n"
     ]
    }
   ],
   "source": [
    "sage: m = 15\n",
    "sage: K = QuadraticField(1-2*m^p, 'x')\n",
    "sage: y = K.class_number()\n",
    "sage: z = y/p  \n",
    "print(y)\n",
    "print(z)"
   ]
  },
  {
   "cell_type": "code",
   "execution_count": 12,
   "metadata": {},
   "outputs": [
    {
     "name": "stdout",
     "output_type": "stream",
     "text": [
      "232416\n",
      "25824\n"
     ]
    }
   ],
   "source": [
    "sage: m = 17\n",
    "sage: K = QuadraticField(1-2*m^p, 'x')\n",
    "sage: y = K.class_number()\n",
    "sage: z = y/p  \n",
    "print(y)\n",
    "print(z)"
   ]
  },
  {
   "cell_type": "code",
   "execution_count": 3,
   "metadata": {},
   "outputs": [
    {
     "name": "stdout",
     "output_type": "stream",
     "text": [
      "7275092\n",
      "661372\n"
     ]
    }
   ],
   "source": [
    "sage: m = 19\n",
    "sage: K = QuadraticField(1-2*m^p, 'x')\n",
    "sage: y = K.class_number()\n",
    "sage: z = y/p  \n",
    "print(y)\n",
    "print(z)"
   ]
  },
  {
   "cell_type": "code",
   "execution_count": null,
   "metadata": {},
   "outputs": [],
   "source": []
  }
 ],
 "metadata": {
  "kernelspec": {
   "display_name": "SageMath 9.2",
   "language": "sage",
   "name": "sagemath"
  },
  "language_info": {
   "codemirror_mode": {
    "name": "ipython",
    "version": 3
   },
   "file_extension": ".py",
   "mimetype": "text/x-python",
   "name": "python",
   "nbconvert_exporter": "python",
   "pygments_lexer": "ipython3",
   "version": "3.7.7"
  }
 },
 "nbformat": 4,
 "nbformat_minor": 4
}
