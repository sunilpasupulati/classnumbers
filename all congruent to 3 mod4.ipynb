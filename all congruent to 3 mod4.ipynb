{
 "cells": [
  {
   "cell_type": "code",
   "execution_count": 1,
   "metadata": {},
   "outputs": [
    {
     "data": {
      "text/plain": [
       "4"
      ]
     },
     "execution_count": 1,
     "metadata": {},
     "output_type": "execute_result"
    }
   ],
   "source": [
    "sage: a = 19\n",
    "sage: b = 59*7\n",
    "sage: x = PolynomialRing(RationalField(), 'x').gen()\n",
    "sage: f =(x^2 - a)*(x^2-b)\n",
    "sage: R.<x> = PolynomialRing(QQ)\n",
    "sage: K.<a> = (f).splitting_field(); K\n",
    "sage: K.class_number()"
   ]
  },
  {
   "cell_type": "code",
   "execution_count": null,
   "metadata": {},
   "outputs": [],
   "source": [
    "sage: a = 19\n",
    "sage: b = 59*7\n",
    "sage: x = PolynomialRing(RationalField(), 'x').gen()\n",
    "sage: f =(x^2 - a)*(x^2-b)\n",
    "sage: R.<x> = PolynomialRing(QQ)\n",
    "sage: K.<a> = (f).splitting_field(); K\n",
    "sage: K.class_number()"
   ]
  },
  {
   "cell_type": "code",
   "execution_count": 4,
   "metadata": {},
   "outputs": [
    {
     "data": {
      "text/plain": [
       "1"
      ]
     },
     "execution_count": 4,
     "metadata": {},
     "output_type": "execute_result"
    }
   ],
   "source": [
    "sage: a = 19\n",
    "sage: b = 59\n",
    "sage: c = 7\n",
    "sage: x = PolynomialRing(RationalField(), 'x').gen()\n",
    "sage: f =(x^2 - a)*(x^2-b)\n",
    "sage: R.<x> = PolynomialRing(QQ)\n",
    "sage: K3.<a> = (f).splitting_field(); K\n",
    "sage: K3.class_number()"
   ]
  },
  {
   "cell_type": "code",
   "execution_count": 5,
   "metadata": {},
   "outputs": [
    {
     "data": {
      "text/plain": [
       "(Fractional ideal (2, -1/80*a^3 + 1/4*a^2 + 29/20*a - 21))^2 * (Fractional ideal (2, 1/2*a + 1))^2"
      ]
     },
     "execution_count": 5,
     "metadata": {},
     "output_type": "execute_result"
    }
   ],
   "source": [
    "K3.factor(2)"
   ]
  },
  {
   "cell_type": "code",
   "execution_count": null,
   "metadata": {},
   "outputs": [],
   "source": []
  }
 ],
 "metadata": {
  "kernelspec": {
   "display_name": "SageMath 9.2",
   "language": "sage",
   "name": "sagemath"
  },
  "language_info": {
   "codemirror_mode": {
    "name": "ipython",
    "version": 3
   },
   "file_extension": ".py",
   "mimetype": "text/x-python",
   "name": "python",
   "nbconvert_exporter": "python",
   "pygments_lexer": "ipython3",
   "version": "3.7.7"
  }
 },
 "nbformat": 4,
 "nbformat_minor": 4
}
